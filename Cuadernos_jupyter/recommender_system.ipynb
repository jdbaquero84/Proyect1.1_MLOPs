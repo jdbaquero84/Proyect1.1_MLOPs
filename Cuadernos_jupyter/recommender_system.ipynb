{
 "cells": [
  {
   "cell_type": "markdown",
   "metadata": {},
   "source": [
    "Se importan librerias y paquetes necesarios."
   ]
  },
  {
   "cell_type": "code",
   "execution_count": 1,
   "metadata": {},
   "outputs": [],
   "source": [
    "import pandas as pd\n",
    "import numpy as np\n",
    "from sklearn.feature_extraction.text import TfidfVectorizer\n",
    "from sklearn.metrics.pairwise import cosine_similarity\n",
    "from sklearn.preprocessing import LabelEncoder"
   ]
  },
  {
   "cell_type": "markdown",
   "metadata": {},
   "source": [
    "Carga y cruce de las bases de datos"
   ]
  },
  {
   "cell_type": "code",
   "execution_count": 2,
   "metadata": {},
   "outputs": [],
   "source": [
    "games=pd.read_parquet('Datos_parquet/games.parquet')"
   ]
  },
  {
   "cell_type": "code",
   "execution_count": 3,
   "metadata": {},
   "outputs": [
    {
     "data": {
      "text/html": [
       "<div>\n",
       "<style scoped>\n",
       "    .dataframe tbody tr th:only-of-type {\n",
       "        vertical-align: middle;\n",
       "    }\n",
       "\n",
       "    .dataframe tbody tr th {\n",
       "        vertical-align: top;\n",
       "    }\n",
       "\n",
       "    .dataframe thead th {\n",
       "        text-align: right;\n",
       "    }\n",
       "</style>\n",
       "<table border=\"1\" class=\"dataframe\">\n",
       "  <thead>\n",
       "    <tr style=\"text-align: right;\">\n",
       "      <th></th>\n",
       "      <th>genres</th>\n",
       "      <th>app_name</th>\n",
       "      <th>tags</th>\n",
       "      <th>price</th>\n",
       "      <th>id</th>\n",
       "      <th>developer</th>\n",
       "      <th>release_anio</th>\n",
       "    </tr>\n",
       "  </thead>\n",
       "  <tbody>\n",
       "    <tr>\n",
       "      <th>0</th>\n",
       "      <td>['Action', 'Casual', 'Indie', 'Simulation', 'S...</td>\n",
       "      <td>Lost Summoner Kitty</td>\n",
       "      <td>['Strategy', 'Action', 'Indie', 'Casual', 'Sim...</td>\n",
       "      <td>4.99</td>\n",
       "      <td>761140</td>\n",
       "      <td>Kotoshiro</td>\n",
       "      <td>2018</td>\n",
       "    </tr>\n",
       "    <tr>\n",
       "      <th>1</th>\n",
       "      <td>['Free to Play', 'Indie', 'RPG', 'Strategy']</td>\n",
       "      <td>Ironbound</td>\n",
       "      <td>['Free to Play', 'Strategy', 'Indie', 'RPG', '...</td>\n",
       "      <td>0.00</td>\n",
       "      <td>643980</td>\n",
       "      <td>Secret Level Srl</td>\n",
       "      <td>2018</td>\n",
       "    </tr>\n",
       "    <tr>\n",
       "      <th>2</th>\n",
       "      <td>['Casual', 'Free to Play', 'Indie', 'Simulatio...</td>\n",
       "      <td>Real Pool 3D - Poolians</td>\n",
       "      <td>['Free to Play', 'Simulation', 'Sports', 'Casu...</td>\n",
       "      <td>0.00</td>\n",
       "      <td>670290</td>\n",
       "      <td>Poolians.Com</td>\n",
       "      <td>2017</td>\n",
       "    </tr>\n",
       "    <tr>\n",
       "      <th>3</th>\n",
       "      <td>['Action', 'Adventure', 'Casual']</td>\n",
       "      <td>弹炸人2222</td>\n",
       "      <td>['Action', 'Adventure', 'Casual']</td>\n",
       "      <td>0.99</td>\n",
       "      <td>767400</td>\n",
       "      <td>彼岸领域</td>\n",
       "      <td>2017</td>\n",
       "    </tr>\n",
       "    <tr>\n",
       "      <th>4</th>\n",
       "      <td>['Action', 'Adventure', 'Simulation']</td>\n",
       "      <td>Battle Royale Trainer</td>\n",
       "      <td>['Action', 'Adventure', 'Simulation', 'FPS', '...</td>\n",
       "      <td>3.99</td>\n",
       "      <td>772540</td>\n",
       "      <td>Trickjump Games Ltd</td>\n",
       "      <td>2018</td>\n",
       "    </tr>\n",
       "  </tbody>\n",
       "</table>\n",
       "</div>"
      ],
      "text/plain": [
       "                                              genres                 app_name  \\\n",
       "0  ['Action', 'Casual', 'Indie', 'Simulation', 'S...      Lost Summoner Kitty   \n",
       "1       ['Free to Play', 'Indie', 'RPG', 'Strategy']                Ironbound   \n",
       "2  ['Casual', 'Free to Play', 'Indie', 'Simulatio...  Real Pool 3D - Poolians   \n",
       "3                  ['Action', 'Adventure', 'Casual']                  弹炸人2222   \n",
       "4              ['Action', 'Adventure', 'Simulation']    Battle Royale Trainer   \n",
       "\n",
       "                                                tags  price      id  \\\n",
       "0  ['Strategy', 'Action', 'Indie', 'Casual', 'Sim...   4.99  761140   \n",
       "1  ['Free to Play', 'Strategy', 'Indie', 'RPG', '...   0.00  643980   \n",
       "2  ['Free to Play', 'Simulation', 'Sports', 'Casu...   0.00  670290   \n",
       "3                  ['Action', 'Adventure', 'Casual']   0.99  767400   \n",
       "4  ['Action', 'Adventure', 'Simulation', 'FPS', '...   3.99  772540   \n",
       "\n",
       "             developer release_anio  \n",
       "0            Kotoshiro         2018  \n",
       "1     Secret Level Srl         2018  \n",
       "2         Poolians.Com         2017  \n",
       "3                 彼岸领域         2017  \n",
       "4  Trickjump Games Ltd         2018  "
      ]
     },
     "execution_count": 3,
     "metadata": {},
     "output_type": "execute_result"
    }
   ],
   "source": [
    "games.head()"
   ]
  },
  {
   "cell_type": "code",
   "execution_count": 4,
   "metadata": {},
   "outputs": [],
   "source": [
    "users=pd.read_parquet('Datos_parquet/users.parquet')"
   ]
  },
  {
   "cell_type": "code",
   "execution_count": 5,
   "metadata": {},
   "outputs": [
    {
     "data": {
      "text/html": [
       "<div>\n",
       "<style scoped>\n",
       "    .dataframe tbody tr th:only-of-type {\n",
       "        vertical-align: middle;\n",
       "    }\n",
       "\n",
       "    .dataframe tbody tr th {\n",
       "        vertical-align: top;\n",
       "    }\n",
       "\n",
       "    .dataframe thead th {\n",
       "        text-align: right;\n",
       "    }\n",
       "</style>\n",
       "<table border=\"1\" class=\"dataframe\">\n",
       "  <thead>\n",
       "    <tr style=\"text-align: right;\">\n",
       "      <th></th>\n",
       "      <th>user_id</th>\n",
       "      <th>items_count</th>\n",
       "      <th>item_id</th>\n",
       "      <th>playtime_forever</th>\n",
       "    </tr>\n",
       "  </thead>\n",
       "  <tbody>\n",
       "    <tr>\n",
       "      <th>0</th>\n",
       "      <td>76561197970982479</td>\n",
       "      <td>277</td>\n",
       "      <td>10</td>\n",
       "      <td>6.0</td>\n",
       "    </tr>\n",
       "    <tr>\n",
       "      <th>1</th>\n",
       "      <td>76561197970982479</td>\n",
       "      <td>277</td>\n",
       "      <td>20</td>\n",
       "      <td>0.0</td>\n",
       "    </tr>\n",
       "    <tr>\n",
       "      <th>2</th>\n",
       "      <td>76561197970982479</td>\n",
       "      <td>277</td>\n",
       "      <td>30</td>\n",
       "      <td>7.0</td>\n",
       "    </tr>\n",
       "    <tr>\n",
       "      <th>3</th>\n",
       "      <td>76561197970982479</td>\n",
       "      <td>277</td>\n",
       "      <td>40</td>\n",
       "      <td>0.0</td>\n",
       "    </tr>\n",
       "    <tr>\n",
       "      <th>4</th>\n",
       "      <td>76561197970982479</td>\n",
       "      <td>277</td>\n",
       "      <td>50</td>\n",
       "      <td>0.0</td>\n",
       "    </tr>\n",
       "  </tbody>\n",
       "</table>\n",
       "</div>"
      ],
      "text/plain": [
       "             user_id  items_count  item_id  playtime_forever\n",
       "0  76561197970982479          277       10               6.0\n",
       "1  76561197970982479          277       20               0.0\n",
       "2  76561197970982479          277       30               7.0\n",
       "3  76561197970982479          277       40               0.0\n",
       "4  76561197970982479          277       50               0.0"
      ]
     },
     "execution_count": 5,
     "metadata": {},
     "output_type": "execute_result"
    }
   ],
   "source": [
    "users.head()"
   ]
  },
  {
   "cell_type": "code",
   "execution_count": 6,
   "metadata": {},
   "outputs": [
    {
     "data": {
      "text/plain": [
       "array(['2018', '2017', '1997', '1998', '2016', '2006', '2005', '2003',\n",
       "       '2007', '2002', '2000', '1995', '1996', '1994', '2001', '1993',\n",
       "       '2004', '2008', '2009', 'Jun 2009', '1999', '1992', '1989', '2010',\n",
       "       '2011', 'Oct 2010', 'Feb 2011', '2013', '2012', '2014', '1983',\n",
       "       '1984', '2015', 'Sep 2014', '1990', '1988', '1991', 'Apr 2015',\n",
       "       'Apr 2016', 'Jul 2016', '1987', 'Jul 2017', '1986', '2021', '2019',\n",
       "       'Apr 2017', 'Jan 2017', 'Nov 2016', 'Oct 2016', 'Jun 2016',\n",
       "       'Aug 2015', 'Jun 2015', 'May 2015', 'Feb 2015', 'Jan 2015', '1985',\n",
       "       'Nov 2014', 'Aug 2014', 'Jul 2014', 'May 2014', 'Feb 2013',\n",
       "       'Dec 2012', 'Jul 2010', 'Mar 2010', 'Jan 2010', 'Oct 2009',\n",
       "       'Sep 2009'], dtype=object)"
      ]
     },
     "execution_count": 6,
     "metadata": {},
     "output_type": "execute_result"
    }
   ],
   "source": [
    "games['release_anio'].unique()"
   ]
  },
  {
   "cell_type": "code",
   "execution_count": 7,
   "metadata": {},
   "outputs": [],
   "source": [
    "games['release_anio'] = games['release_anio'].str.replace(r'[A-Za-z]', '', regex=True)"
   ]
  },
  {
   "cell_type": "code",
   "execution_count": 8,
   "metadata": {},
   "outputs": [
    {
     "data": {
      "text/plain": [
       "array(['2018', '2017', '1997', '1998', '2016', '2006', '2005', '2003',\n",
       "       '2007', '2002', '2000', '1995', '1996', '1994', '2001', '1993',\n",
       "       '2004', '2008', '2009', ' 2009', '1999', '1992', '1989', '2010',\n",
       "       '2011', ' 2010', ' 2011', '2013', '2012', '2014', '1983', '1984',\n",
       "       '2015', ' 2014', '1990', '1988', '1991', ' 2015', ' 2016', '1987',\n",
       "       ' 2017', '1986', '2021', '2019', '1985', ' 2013', ' 2012'],\n",
       "      dtype=object)"
      ]
     },
     "execution_count": 8,
     "metadata": {},
     "output_type": "execute_result"
    }
   ],
   "source": [
    "games['release_anio'].unique()"
   ]
  },
  {
   "cell_type": "code",
   "execution_count": 9,
   "metadata": {},
   "outputs": [],
   "source": [
    "games['release_anio']=games['release_anio'].astype(int)"
   ]
  },
  {
   "cell_type": "code",
   "execution_count": 12,
   "metadata": {},
   "outputs": [],
   "source": [
    "populares=pd.merge(games, users [['item_id','playtime_forever']], left_on='id', right_on='item_id', how='inner' )"
   ]
  },
  {
   "cell_type": "code",
   "execution_count": 13,
   "metadata": {},
   "outputs": [
    {
     "data": {
      "text/html": [
       "<div>\n",
       "<style scoped>\n",
       "    .dataframe tbody tr th:only-of-type {\n",
       "        vertical-align: middle;\n",
       "    }\n",
       "\n",
       "    .dataframe tbody tr th {\n",
       "        vertical-align: top;\n",
       "    }\n",
       "\n",
       "    .dataframe thead th {\n",
       "        text-align: right;\n",
       "    }\n",
       "</style>\n",
       "<table border=\"1\" class=\"dataframe\">\n",
       "  <thead>\n",
       "    <tr style=\"text-align: right;\">\n",
       "      <th></th>\n",
       "      <th>genres</th>\n",
       "      <th>app_name</th>\n",
       "      <th>tags</th>\n",
       "      <th>price</th>\n",
       "      <th>id</th>\n",
       "      <th>developer</th>\n",
       "      <th>release_anio</th>\n",
       "      <th>item_id</th>\n",
       "      <th>playtime_forever</th>\n",
       "    </tr>\n",
       "  </thead>\n",
       "  <tbody>\n",
       "    <tr>\n",
       "      <th>0</th>\n",
       "      <td>['Action', 'Indie', 'Racing']</td>\n",
       "      <td>Carmageddon Max Pack</td>\n",
       "      <td>['Racing', 'Action', 'Classic', 'Indie', 'Gore...</td>\n",
       "      <td>9.99</td>\n",
       "      <td>282010</td>\n",
       "      <td>Stainless Games Ltd</td>\n",
       "      <td>1997</td>\n",
       "      <td>282010</td>\n",
       "      <td>5.0</td>\n",
       "    </tr>\n",
       "    <tr>\n",
       "      <th>1</th>\n",
       "      <td>['Action', 'Indie', 'Racing']</td>\n",
       "      <td>Carmageddon Max Pack</td>\n",
       "      <td>['Racing', 'Action', 'Classic', 'Indie', 'Gore...</td>\n",
       "      <td>9.99</td>\n",
       "      <td>282010</td>\n",
       "      <td>Stainless Games Ltd</td>\n",
       "      <td>1997</td>\n",
       "      <td>282010</td>\n",
       "      <td>0.0</td>\n",
       "    </tr>\n",
       "    <tr>\n",
       "      <th>2</th>\n",
       "      <td>['Action', 'Indie', 'Racing']</td>\n",
       "      <td>Carmageddon Max Pack</td>\n",
       "      <td>['Racing', 'Action', 'Classic', 'Indie', 'Gore...</td>\n",
       "      <td>9.99</td>\n",
       "      <td>282010</td>\n",
       "      <td>Stainless Games Ltd</td>\n",
       "      <td>1997</td>\n",
       "      <td>282010</td>\n",
       "      <td>0.0</td>\n",
       "    </tr>\n",
       "    <tr>\n",
       "      <th>3</th>\n",
       "      <td>['Action', 'Indie', 'Racing']</td>\n",
       "      <td>Carmageddon Max Pack</td>\n",
       "      <td>['Racing', 'Action', 'Classic', 'Indie', 'Gore...</td>\n",
       "      <td>9.99</td>\n",
       "      <td>282010</td>\n",
       "      <td>Stainless Games Ltd</td>\n",
       "      <td>1997</td>\n",
       "      <td>282010</td>\n",
       "      <td>0.0</td>\n",
       "    </tr>\n",
       "    <tr>\n",
       "      <th>4</th>\n",
       "      <td>['Action', 'Indie', 'Racing']</td>\n",
       "      <td>Carmageddon Max Pack</td>\n",
       "      <td>['Racing', 'Action', 'Classic', 'Indie', 'Gore...</td>\n",
       "      <td>9.99</td>\n",
       "      <td>282010</td>\n",
       "      <td>Stainless Games Ltd</td>\n",
       "      <td>1997</td>\n",
       "      <td>282010</td>\n",
       "      <td>13.0</td>\n",
       "    </tr>\n",
       "  </tbody>\n",
       "</table>\n",
       "</div>"
      ],
      "text/plain": [
       "                          genres              app_name  \\\n",
       "0  ['Action', 'Indie', 'Racing']  Carmageddon Max Pack   \n",
       "1  ['Action', 'Indie', 'Racing']  Carmageddon Max Pack   \n",
       "2  ['Action', 'Indie', 'Racing']  Carmageddon Max Pack   \n",
       "3  ['Action', 'Indie', 'Racing']  Carmageddon Max Pack   \n",
       "4  ['Action', 'Indie', 'Racing']  Carmageddon Max Pack   \n",
       "\n",
       "                                                tags  price      id  \\\n",
       "0  ['Racing', 'Action', 'Classic', 'Indie', 'Gore...   9.99  282010   \n",
       "1  ['Racing', 'Action', 'Classic', 'Indie', 'Gore...   9.99  282010   \n",
       "2  ['Racing', 'Action', 'Classic', 'Indie', 'Gore...   9.99  282010   \n",
       "3  ['Racing', 'Action', 'Classic', 'Indie', 'Gore...   9.99  282010   \n",
       "4  ['Racing', 'Action', 'Classic', 'Indie', 'Gore...   9.99  282010   \n",
       "\n",
       "             developer  release_anio  item_id  playtime_forever  \n",
       "0  Stainless Games Ltd          1997   282010               5.0  \n",
       "1  Stainless Games Ltd          1997   282010               0.0  \n",
       "2  Stainless Games Ltd          1997   282010               0.0  \n",
       "3  Stainless Games Ltd          1997   282010               0.0  \n",
       "4  Stainless Games Ltd          1997   282010              13.0  "
      ]
     },
     "execution_count": 13,
     "metadata": {},
     "output_type": "execute_result"
    }
   ],
   "source": [
    "populares.head()"
   ]
  },
  {
   "cell_type": "code",
   "execution_count": 18,
   "metadata": {},
   "outputs": [],
   "source": [
    "populares.drop(columns=['item_id','id'],inplace=True)"
   ]
  },
  {
   "cell_type": "markdown",
   "metadata": {},
   "source": [
    "Se toman datos solo desde el año 2016"
   ]
  },
  {
   "cell_type": "code",
   "execution_count": 14,
   "metadata": {},
   "outputs": [],
   "source": [
    "populares=populares[populares['release_anio']>=2016]"
   ]
  },
  {
   "cell_type": "markdown",
   "metadata": {},
   "source": [
    "Se guarda el dataset"
   ]
  },
  {
   "cell_type": "code",
   "execution_count": 22,
   "metadata": {},
   "outputs": [],
   "source": [
    "#populares.to_parquet(r'prime_games.parquet', index=False)"
   ]
  },
  {
   "cell_type": "markdown",
   "metadata": {},
   "source": [
    "Se inicia el codigo para el entorno virtual"
   ]
  },
  {
   "cell_type": "code",
   "execution_count": null,
   "metadata": {},
   "outputs": [],
   "source": [
    "import pandas as pd\n",
    "import numpy as np\n",
    "from sklearn.feature_extraction.text import TfidfVectorizer\n",
    "from sklearn.metrics.pairwise import cosine_similarity\n",
    "from sklearn.preprocessing import LabelEncoder"
   ]
  },
  {
   "cell_type": "code",
   "execution_count": 16,
   "metadata": {},
   "outputs": [],
   "source": [
    "prime_games=pd.read_parquet('Datos_parquet/prime_games.parquet')"
   ]
  },
  {
   "cell_type": "code",
   "execution_count": 17,
   "metadata": {},
   "outputs": [
    {
     "data": {
      "text/html": [
       "<div>\n",
       "<style scoped>\n",
       "    .dataframe tbody tr th:only-of-type {\n",
       "        vertical-align: middle;\n",
       "    }\n",
       "\n",
       "    .dataframe tbody tr th {\n",
       "        vertical-align: top;\n",
       "    }\n",
       "\n",
       "    .dataframe thead th {\n",
       "        text-align: right;\n",
       "    }\n",
       "</style>\n",
       "<table border=\"1\" class=\"dataframe\">\n",
       "  <thead>\n",
       "    <tr style=\"text-align: right;\">\n",
       "      <th></th>\n",
       "      <th>genres</th>\n",
       "      <th>app_name</th>\n",
       "      <th>tags</th>\n",
       "      <th>price</th>\n",
       "      <th>developer</th>\n",
       "      <th>release_anio</th>\n",
       "      <th>playtime_forever</th>\n",
       "    </tr>\n",
       "  </thead>\n",
       "  <tbody>\n",
       "    <tr>\n",
       "      <th>0</th>\n",
       "      <td>['Education', 'Software Training', 'Utilities'...</td>\n",
       "      <td>Driver Fusion Premium</td>\n",
       "      <td>['Utilities', 'Education', 'Web Publishing', '...</td>\n",
       "      <td>40.0</td>\n",
       "      <td>Treexy</td>\n",
       "      <td>2017</td>\n",
       "      <td>796.0</td>\n",
       "    </tr>\n",
       "    <tr>\n",
       "      <th>1</th>\n",
       "      <td>['Education', 'Software Training', 'Utilities'...</td>\n",
       "      <td>Driver Fusion Premium</td>\n",
       "      <td>['Utilities', 'Education', 'Web Publishing', '...</td>\n",
       "      <td>40.0</td>\n",
       "      <td>Treexy</td>\n",
       "      <td>2017</td>\n",
       "      <td>76.0</td>\n",
       "    </tr>\n",
       "    <tr>\n",
       "      <th>2</th>\n",
       "      <td>['Education', 'Software Training', 'Utilities'...</td>\n",
       "      <td>Driver Fusion Premium</td>\n",
       "      <td>['Utilities', 'Education', 'Web Publishing', '...</td>\n",
       "      <td>40.0</td>\n",
       "      <td>Treexy</td>\n",
       "      <td>2017</td>\n",
       "      <td>331.0</td>\n",
       "    </tr>\n",
       "    <tr>\n",
       "      <th>3</th>\n",
       "      <td>['Education', 'Software Training', 'Utilities'...</td>\n",
       "      <td>Driver Fusion Premium</td>\n",
       "      <td>['Utilities', 'Education', 'Web Publishing', '...</td>\n",
       "      <td>40.0</td>\n",
       "      <td>Treexy</td>\n",
       "      <td>2017</td>\n",
       "      <td>471.0</td>\n",
       "    </tr>\n",
       "    <tr>\n",
       "      <th>4</th>\n",
       "      <td>['Education', 'Software Training', 'Utilities'...</td>\n",
       "      <td>Driver Fusion Premium</td>\n",
       "      <td>['Utilities', 'Education', 'Web Publishing', '...</td>\n",
       "      <td>40.0</td>\n",
       "      <td>Treexy</td>\n",
       "      <td>2017</td>\n",
       "      <td>886.0</td>\n",
       "    </tr>\n",
       "  </tbody>\n",
       "</table>\n",
       "</div>"
      ],
      "text/plain": [
       "                                              genres               app_name  \\\n",
       "0  ['Education', 'Software Training', 'Utilities'...  Driver Fusion Premium   \n",
       "1  ['Education', 'Software Training', 'Utilities'...  Driver Fusion Premium   \n",
       "2  ['Education', 'Software Training', 'Utilities'...  Driver Fusion Premium   \n",
       "3  ['Education', 'Software Training', 'Utilities'...  Driver Fusion Premium   \n",
       "4  ['Education', 'Software Training', 'Utilities'...  Driver Fusion Premium   \n",
       "\n",
       "                                                tags  price developer  \\\n",
       "0  ['Utilities', 'Education', 'Web Publishing', '...   40.0    Treexy   \n",
       "1  ['Utilities', 'Education', 'Web Publishing', '...   40.0    Treexy   \n",
       "2  ['Utilities', 'Education', 'Web Publishing', '...   40.0    Treexy   \n",
       "3  ['Utilities', 'Education', 'Web Publishing', '...   40.0    Treexy   \n",
       "4  ['Utilities', 'Education', 'Web Publishing', '...   40.0    Treexy   \n",
       "\n",
       "   release_anio  playtime_forever  \n",
       "0          2017             796.0  \n",
       "1          2017              76.0  \n",
       "2          2017             331.0  \n",
       "3          2017             471.0  \n",
       "4          2017             886.0  "
      ]
     },
     "execution_count": 17,
     "metadata": {},
     "output_type": "execute_result"
    }
   ],
   "source": [
    "prime_games.head()"
   ]
  },
  {
   "cell_type": "code",
   "execution_count": 19,
   "metadata": {},
   "outputs": [
    {
     "data": {
      "text/plain": [
       "array([  796.,    76.,   331., ..., 32080., 38720., 21260.])"
      ]
     },
     "execution_count": 19,
     "metadata": {},
     "output_type": "execute_result"
    }
   ],
   "source": [
    "prime_games['playtime_forever'].unique()"
   ]
  },
  {
   "cell_type": "code",
   "execution_count": 20,
   "metadata": {},
   "outputs": [
    {
     "name": "stderr",
     "output_type": "stream",
     "text": [
      "C:\\Users\\57319\\AppData\\Local\\Packages\\PythonSoftwareFoundation.Python.3.10_qbz5n2kfra8p0\\LocalCache\\local-packages\\Python310\\site-packages\\pandas\\core\\nanops.py:1016: RuntimeWarning: invalid value encountered in subtract\n",
      "  sqr = _ensure_numeric((avg - values) ** 2)\n"
     ]
    },
    {
     "data": {
      "text/html": [
       "<div>\n",
       "<style scoped>\n",
       "    .dataframe tbody tr th:only-of-type {\n",
       "        vertical-align: middle;\n",
       "    }\n",
       "\n",
       "    .dataframe tbody tr th {\n",
       "        vertical-align: top;\n",
       "    }\n",
       "\n",
       "    .dataframe thead th {\n",
       "        text-align: right;\n",
       "    }\n",
       "</style>\n",
       "<table border=\"1\" class=\"dataframe\">\n",
       "  <thead>\n",
       "    <tr style=\"text-align: right;\">\n",
       "      <th></th>\n",
       "      <th>price</th>\n",
       "      <th>release_anio</th>\n",
       "      <th>playtime_forever</th>\n",
       "    </tr>\n",
       "  </thead>\n",
       "  <tbody>\n",
       "    <tr>\n",
       "      <th>count</th>\n",
       "      <td>353915.000000</td>\n",
       "      <td>353915.000000</td>\n",
       "      <td>353915.0</td>\n",
       "    </tr>\n",
       "    <tr>\n",
       "      <th>mean</th>\n",
       "      <td>12.187114</td>\n",
       "      <td>2016.336530</td>\n",
       "      <td>inf</td>\n",
       "    </tr>\n",
       "    <tr>\n",
       "      <th>std</th>\n",
       "      <td>17.404857</td>\n",
       "      <td>0.473515</td>\n",
       "      <td>NaN</td>\n",
       "    </tr>\n",
       "    <tr>\n",
       "      <th>min</th>\n",
       "      <td>0.000000</td>\n",
       "      <td>2016.000000</td>\n",
       "      <td>0.0</td>\n",
       "    </tr>\n",
       "    <tr>\n",
       "      <th>25%</th>\n",
       "      <td>0.000000</td>\n",
       "      <td>2016.000000</td>\n",
       "      <td>0.0</td>\n",
       "    </tr>\n",
       "    <tr>\n",
       "      <th>50%</th>\n",
       "      <td>1.990000</td>\n",
       "      <td>2016.000000</td>\n",
       "      <td>62.0</td>\n",
       "    </tr>\n",
       "    <tr>\n",
       "      <th>75%</th>\n",
       "      <td>19.980000</td>\n",
       "      <td>2017.000000</td>\n",
       "      <td>461.0</td>\n",
       "    </tr>\n",
       "    <tr>\n",
       "      <th>max</th>\n",
       "      <td>120.000000</td>\n",
       "      <td>2018.000000</td>\n",
       "      <td>inf</td>\n",
       "    </tr>\n",
       "  </tbody>\n",
       "</table>\n",
       "</div>"
      ],
      "text/plain": [
       "               price   release_anio  playtime_forever\n",
       "count  353915.000000  353915.000000          353915.0\n",
       "mean       12.187114    2016.336530               inf\n",
       "std        17.404857       0.473515               NaN\n",
       "min         0.000000    2016.000000               0.0\n",
       "25%         0.000000    2016.000000               0.0\n",
       "50%         1.990000    2016.000000              62.0\n",
       "75%        19.980000    2017.000000             461.0\n",
       "max       120.000000    2018.000000               inf"
      ]
     },
     "execution_count": 20,
     "metadata": {},
     "output_type": "execute_result"
    }
   ],
   "source": [
    "prime_games.describe()"
   ]
  },
  {
   "cell_type": "markdown",
   "metadata": {},
   "source": [
    "Se elimiman los inf, son outliers que estan afectando el promedio."
   ]
  },
  {
   "cell_type": "code",
   "execution_count": 21,
   "metadata": {},
   "outputs": [],
   "source": [
    "prime_games.replace([np.inf],np.nan, inplace=True)"
   ]
  },
  {
   "cell_type": "code",
   "execution_count": 22,
   "metadata": {},
   "outputs": [],
   "source": [
    "prime_games.dropna(inplace=True)"
   ]
  },
  {
   "cell_type": "code",
   "execution_count": 23,
   "metadata": {},
   "outputs": [
    {
     "data": {
      "text/html": [
       "<div>\n",
       "<style scoped>\n",
       "    .dataframe tbody tr th:only-of-type {\n",
       "        vertical-align: middle;\n",
       "    }\n",
       "\n",
       "    .dataframe tbody tr th {\n",
       "        vertical-align: top;\n",
       "    }\n",
       "\n",
       "    .dataframe thead th {\n",
       "        text-align: right;\n",
       "    }\n",
       "</style>\n",
       "<table border=\"1\" class=\"dataframe\">\n",
       "  <thead>\n",
       "    <tr style=\"text-align: right;\">\n",
       "      <th></th>\n",
       "      <th>price</th>\n",
       "      <th>release_anio</th>\n",
       "      <th>playtime_forever</th>\n",
       "    </tr>\n",
       "  </thead>\n",
       "  <tbody>\n",
       "    <tr>\n",
       "      <th>count</th>\n",
       "      <td>353815.000000</td>\n",
       "      <td>353815.000000</td>\n",
       "      <td>353815.000000</td>\n",
       "    </tr>\n",
       "    <tr>\n",
       "      <th>mean</th>\n",
       "      <td>12.181201</td>\n",
       "      <td>2016.336436</td>\n",
       "      <td>773.722878</td>\n",
       "    </tr>\n",
       "    <tr>\n",
       "      <th>std</th>\n",
       "      <td>17.397558</td>\n",
       "      <td>0.473483</td>\n",
       "      <td>2577.658246</td>\n",
       "    </tr>\n",
       "    <tr>\n",
       "      <th>min</th>\n",
       "      <td>0.000000</td>\n",
       "      <td>2016.000000</td>\n",
       "      <td>0.000000</td>\n",
       "    </tr>\n",
       "    <tr>\n",
       "      <th>25%</th>\n",
       "      <td>0.000000</td>\n",
       "      <td>2016.000000</td>\n",
       "      <td>0.000000</td>\n",
       "    </tr>\n",
       "    <tr>\n",
       "      <th>50%</th>\n",
       "      <td>1.990000</td>\n",
       "      <td>2016.000000</td>\n",
       "      <td>62.000000</td>\n",
       "    </tr>\n",
       "    <tr>\n",
       "      <th>75%</th>\n",
       "      <td>19.980000</td>\n",
       "      <td>2017.000000</td>\n",
       "      <td>460.000000</td>\n",
       "    </tr>\n",
       "    <tr>\n",
       "      <th>max</th>\n",
       "      <td>120.000000</td>\n",
       "      <td>2018.000000</td>\n",
       "      <td>65150.000000</td>\n",
       "    </tr>\n",
       "  </tbody>\n",
       "</table>\n",
       "</div>"
      ],
      "text/plain": [
       "               price   release_anio  playtime_forever\n",
       "count  353815.000000  353815.000000     353815.000000\n",
       "mean       12.181201    2016.336436        773.722878\n",
       "std        17.397558       0.473483       2577.658246\n",
       "min         0.000000    2016.000000          0.000000\n",
       "25%         0.000000    2016.000000          0.000000\n",
       "50%         1.990000    2016.000000         62.000000\n",
       "75%        19.980000    2017.000000        460.000000\n",
       "max       120.000000    2018.000000      65150.000000"
      ]
     },
     "execution_count": 23,
     "metadata": {},
     "output_type": "execute_result"
    }
   ],
   "source": [
    "prime_games.describe()"
   ]
  },
  {
   "cell_type": "code",
   "execution_count": 24,
   "metadata": {},
   "outputs": [
    {
     "data": {
      "text/plain": [
       "(353815, 7)"
      ]
     },
     "execution_count": 24,
     "metadata": {},
     "output_type": "execute_result"
    }
   ],
   "source": [
    "prime_games.shape"
   ]
  },
  {
   "cell_type": "markdown",
   "metadata": {},
   "source": [
    "Se guarda esta ultima base de datos"
   ]
  },
  {
   "cell_type": "code",
   "execution_count": 25,
   "metadata": {},
   "outputs": [],
   "source": [
    "prime_games.to_parquet(r'prime_games_clean.parquet', index=False)"
   ]
  },
  {
   "cell_type": "markdown",
   "metadata": {},
   "source": [
    "Se suma el tiempo jugado por titulo"
   ]
  },
  {
   "cell_type": "code",
   "execution_count": 26,
   "metadata": {},
   "outputs": [],
   "source": [
    "df_playtime=prime_games.groupby('app_name')['playtime_forever'].sum().reset_index()"
   ]
  },
  {
   "cell_type": "code",
   "execution_count": 27,
   "metadata": {},
   "outputs": [
    {
     "data": {
      "text/html": [
       "<div>\n",
       "<style scoped>\n",
       "    .dataframe tbody tr th:only-of-type {\n",
       "        vertical-align: middle;\n",
       "    }\n",
       "\n",
       "    .dataframe tbody tr th {\n",
       "        vertical-align: top;\n",
       "    }\n",
       "\n",
       "    .dataframe thead th {\n",
       "        text-align: right;\n",
       "    }\n",
       "</style>\n",
       "<table border=\"1\" class=\"dataframe\">\n",
       "  <thead>\n",
       "    <tr style=\"text-align: right;\">\n",
       "      <th></th>\n",
       "      <th>app_name</th>\n",
       "      <th>playtime_forever</th>\n",
       "    </tr>\n",
       "  </thead>\n",
       "  <tbody>\n",
       "    <tr>\n",
       "      <th>0</th>\n",
       "      <td>! That Bastard Is Trying To Steal Our Gold !</td>\n",
       "      <td>742.0</td>\n",
       "    </tr>\n",
       "    <tr>\n",
       "      <th>1</th>\n",
       "      <td>$1 Ride</td>\n",
       "      <td>1522.0</td>\n",
       "    </tr>\n",
       "    <tr>\n",
       "      <th>2</th>\n",
       "      <td>.Exe</td>\n",
       "      <td>0.0</td>\n",
       "    </tr>\n",
       "    <tr>\n",
       "      <th>3</th>\n",
       "      <td>1 Moment Of Time: Silentville</td>\n",
       "      <td>4888.0</td>\n",
       "    </tr>\n",
       "    <tr>\n",
       "      <th>4</th>\n",
       "      <td>10 Minute Barbarian</td>\n",
       "      <td>215.0</td>\n",
       "    </tr>\n",
       "  </tbody>\n",
       "</table>\n",
       "</div>"
      ],
      "text/plain": [
       "                                       app_name  playtime_forever\n",
       "0  ! That Bastard Is Trying To Steal Our Gold !             742.0\n",
       "1                                       $1 Ride            1522.0\n",
       "2                                          .Exe               0.0\n",
       "3                 1 Moment Of Time: Silentville            4888.0\n",
       "4                           10 Minute Barbarian             215.0"
      ]
     },
     "execution_count": 27,
     "metadata": {},
     "output_type": "execute_result"
    }
   ],
   "source": [
    "df_playtime.head()"
   ]
  },
  {
   "cell_type": "code",
   "execution_count": 32,
   "metadata": {},
   "outputs": [],
   "source": [
    "df_playtime=df_playtime.sort_values(by='playtime_forever',ascending=True)"
   ]
  },
  {
   "cell_type": "code",
   "execution_count": 33,
   "metadata": {},
   "outputs": [
    {
     "data": {
      "text/html": [
       "<div>\n",
       "<style scoped>\n",
       "    .dataframe tbody tr th:only-of-type {\n",
       "        vertical-align: middle;\n",
       "    }\n",
       "\n",
       "    .dataframe tbody tr th {\n",
       "        vertical-align: top;\n",
       "    }\n",
       "\n",
       "    .dataframe thead th {\n",
       "        text-align: right;\n",
       "    }\n",
       "</style>\n",
       "<table border=\"1\" class=\"dataframe\">\n",
       "  <thead>\n",
       "    <tr style=\"text-align: right;\">\n",
       "      <th></th>\n",
       "      <th>app_name</th>\n",
       "      <th>playtime_forever</th>\n",
       "    </tr>\n",
       "  </thead>\n",
       "  <tbody>\n",
       "    <tr>\n",
       "      <th>1060</th>\n",
       "      <td>Leave Me Alone: A Trip To Hell</td>\n",
       "      <td>0.0</td>\n",
       "    </tr>\n",
       "    <tr>\n",
       "      <th>1641</th>\n",
       "      <td>Selma And The Wisp</td>\n",
       "      <td>0.0</td>\n",
       "    </tr>\n",
       "    <tr>\n",
       "      <th>300</th>\n",
       "      <td>Breakneck</td>\n",
       "      <td>0.0</td>\n",
       "    </tr>\n",
       "    <tr>\n",
       "      <th>1848</th>\n",
       "      <td>Super Intergalactic Gang</td>\n",
       "      <td>0.0</td>\n",
       "    </tr>\n",
       "    <tr>\n",
       "      <th>1172</th>\n",
       "      <td>Mechagore</td>\n",
       "      <td>0.0</td>\n",
       "    </tr>\n",
       "  </tbody>\n",
       "</table>\n",
       "</div>"
      ],
      "text/plain": [
       "                            app_name  playtime_forever\n",
       "1060  Leave Me Alone: A Trip To Hell               0.0\n",
       "1641              Selma And The Wisp               0.0\n",
       "300                        Breakneck               0.0\n",
       "1848        Super Intergalactic Gang               0.0\n",
       "1172                       Mechagore               0.0"
      ]
     },
     "execution_count": 33,
     "metadata": {},
     "output_type": "execute_result"
    }
   ],
   "source": [
    "df_playtime.head()"
   ]
  },
  {
   "cell_type": "code",
   "execution_count": 30,
   "metadata": {},
   "outputs": [
    {
     "name": "stdout",
     "output_type": "stream",
     "text": [
      "<class 'pandas.core.frame.DataFrame'>\n",
      "Index: 2274 entries, 2132 to 1060\n",
      "Data columns (total 2 columns):\n",
      " #   Column            Non-Null Count  Dtype  \n",
      "---  ------            --------------  -----  \n",
      " 0   app_name          2274 non-null   object \n",
      " 1   playtime_forever  2274 non-null   float64\n",
      "dtypes: float64(1), object(1)\n",
      "memory usage: 53.3+ KB\n"
     ]
    }
   ],
   "source": [
    "df_playtime.info()"
   ]
  },
  {
   "cell_type": "markdown",
   "metadata": {},
   "source": [
    "Se eliminan tiempos de juego en cero"
   ]
  },
  {
   "cell_type": "code",
   "execution_count": 34,
   "metadata": {},
   "outputs": [],
   "source": [
    "df_playtime=df_playtime[df_playtime['playtime_forever']>0]"
   ]
  },
  {
   "cell_type": "code",
   "execution_count": 35,
   "metadata": {},
   "outputs": [],
   "source": [
    "df_playtime=df_playtime.sort_values(by='playtime_forever',ascending=True)"
   ]
  },
  {
   "cell_type": "code",
   "execution_count": 36,
   "metadata": {},
   "outputs": [
    {
     "data": {
      "text/html": [
       "<div>\n",
       "<style scoped>\n",
       "    .dataframe tbody tr th:only-of-type {\n",
       "        vertical-align: middle;\n",
       "    }\n",
       "\n",
       "    .dataframe tbody tr th {\n",
       "        vertical-align: top;\n",
       "    }\n",
       "\n",
       "    .dataframe thead th {\n",
       "        text-align: right;\n",
       "    }\n",
       "</style>\n",
       "<table border=\"1\" class=\"dataframe\">\n",
       "  <thead>\n",
       "    <tr style=\"text-align: right;\">\n",
       "      <th></th>\n",
       "      <th>app_name</th>\n",
       "      <th>playtime_forever</th>\n",
       "    </tr>\n",
       "  </thead>\n",
       "  <tbody>\n",
       "    <tr>\n",
       "      <th>1208</th>\n",
       "      <td>Mimic Arena</td>\n",
       "      <td>1.0</td>\n",
       "    </tr>\n",
       "    <tr>\n",
       "      <th>410</th>\n",
       "      <td>Copy Kitty</td>\n",
       "      <td>1.0</td>\n",
       "    </tr>\n",
       "    <tr>\n",
       "      <th>1896</th>\n",
       "      <td>Tales Of Destruction</td>\n",
       "      <td>1.0</td>\n",
       "    </tr>\n",
       "    <tr>\n",
       "      <th>1223</th>\n",
       "      <td>Momento Temporis: Light From The Deep</td>\n",
       "      <td>1.0</td>\n",
       "    </tr>\n",
       "    <tr>\n",
       "      <th>884</th>\n",
       "      <td>Help: The Game</td>\n",
       "      <td>1.0</td>\n",
       "    </tr>\n",
       "  </tbody>\n",
       "</table>\n",
       "</div>"
      ],
      "text/plain": [
       "                                   app_name  playtime_forever\n",
       "1208                            Mimic Arena               1.0\n",
       "410                              Copy Kitty               1.0\n",
       "1896                   Tales Of Destruction               1.0\n",
       "1223  Momento Temporis: Light From The Deep               1.0\n",
       "884                          Help: The Game               1.0"
      ]
     },
     "execution_count": 36,
     "metadata": {},
     "output_type": "execute_result"
    }
   ],
   "source": [
    "df_playtime.head()"
   ]
  },
  {
   "cell_type": "code",
   "execution_count": 37,
   "metadata": {},
   "outputs": [],
   "source": [
    "df_playtime=df_playtime.sort_values(by='playtime_forever',ascending=False)"
   ]
  },
  {
   "cell_type": "code",
   "execution_count": 38,
   "metadata": {},
   "outputs": [
    {
     "data": {
      "text/html": [
       "<div>\n",
       "<style scoped>\n",
       "    .dataframe tbody tr th:only-of-type {\n",
       "        vertical-align: middle;\n",
       "    }\n",
       "\n",
       "    .dataframe tbody tr th {\n",
       "        vertical-align: top;\n",
       "    }\n",
       "\n",
       "    .dataframe thead th {\n",
       "        text-align: right;\n",
       "    }\n",
       "</style>\n",
       "<table border=\"1\" class=\"dataframe\">\n",
       "  <thead>\n",
       "    <tr style=\"text-align: right;\">\n",
       "      <th></th>\n",
       "      <th>app_name</th>\n",
       "      <th>playtime_forever</th>\n",
       "    </tr>\n",
       "  </thead>\n",
       "  <tbody>\n",
       "    <tr>\n",
       "      <th>2132</th>\n",
       "      <td>Unturned</td>\n",
       "      <td>50169965.0</td>\n",
       "    </tr>\n",
       "    <tr>\n",
       "      <th>133</th>\n",
       "      <td>Ark: Survival Evolved</td>\n",
       "      <td>34308224.0</td>\n",
       "    </tr>\n",
       "    <tr>\n",
       "      <th>1793</th>\n",
       "      <td>Starbound</td>\n",
       "      <td>27705592.0</td>\n",
       "    </tr>\n",
       "    <tr>\n",
       "      <th>1572</th>\n",
       "      <td>Robocraft</td>\n",
       "      <td>22542750.0</td>\n",
       "    </tr>\n",
       "    <tr>\n",
       "      <th>891</th>\n",
       "      <td>Heroes &amp; Generals</td>\n",
       "      <td>13436733.0</td>\n",
       "    </tr>\n",
       "  </tbody>\n",
       "</table>\n",
       "</div>"
      ],
      "text/plain": [
       "                   app_name  playtime_forever\n",
       "2132               Unturned        50169965.0\n",
       "133   Ark: Survival Evolved        34308224.0\n",
       "1793              Starbound        27705592.0\n",
       "1572              Robocraft        22542750.0\n",
       "891       Heroes & Generals        13436733.0"
      ]
     },
     "execution_count": 38,
     "metadata": {},
     "output_type": "execute_result"
    }
   ],
   "source": [
    "df_playtime.head()"
   ]
  },
  {
   "cell_type": "markdown",
   "metadata": {},
   "source": [
    "se cruzan las bases de datos"
   ]
  },
  {
   "cell_type": "code",
   "execution_count": 39,
   "metadata": {},
   "outputs": [],
   "source": [
    "data=pd.merge(df_playtime['app_name'], games, left_on='app_name', right_on='app_name', how='inner')"
   ]
  },
  {
   "cell_type": "code",
   "execution_count": 40,
   "metadata": {},
   "outputs": [
    {
     "name": "stdout",
     "output_type": "stream",
     "text": [
      "<class 'pandas.core.frame.DataFrame'>\n",
      "RangeIndex: 2014 entries, 0 to 2013\n",
      "Data columns (total 7 columns):\n",
      " #   Column        Non-Null Count  Dtype  \n",
      "---  ------        --------------  -----  \n",
      " 0   app_name      2014 non-null   object \n",
      " 1   genres        2014 non-null   object \n",
      " 2   tags          2014 non-null   object \n",
      " 3   price         2014 non-null   float64\n",
      " 4   id            2014 non-null   int64  \n",
      " 5   developer     2014 non-null   object \n",
      " 6   release_anio  2014 non-null   int32  \n",
      "dtypes: float64(1), int32(1), int64(1), object(4)\n",
      "memory usage: 102.4+ KB\n"
     ]
    }
   ],
   "source": [
    "data.info()"
   ]
  },
  {
   "cell_type": "markdown",
   "metadata": {},
   "source": [
    "Se descarta el año de lanzamiento"
   ]
  },
  {
   "cell_type": "code",
   "execution_count": 42,
   "metadata": {},
   "outputs": [],
   "source": [
    "data.drop('release_anio',axis=1,inplace=True)"
   ]
  },
  {
   "cell_type": "code",
   "execution_count": 43,
   "metadata": {},
   "outputs": [],
   "source": [
    "data.to_parquet(r'data.parquet', index=False)"
   ]
  },
  {
   "cell_type": "markdown",
   "metadata": {},
   "source": [
    "Se usa el modelo de similitud del coseno de acuerdo a los lineamientos dados"
   ]
  },
  {
   "cell_type": "markdown",
   "metadata": {},
   "source": [
    "Se genera el codigo para el entorno virtual con los data sets definitivos"
   ]
  },
  {
   "cell_type": "code",
   "execution_count": null,
   "metadata": {},
   "outputs": [],
   "source": [
    "import pandas as pd\n",
    "import numpy as np\n",
    "from sklearn.feature_extraction.text import TfidfVectorizer\n",
    "from sklearn.metrics.pairwise import cosine_similarity\n",
    "from sklearn.preprocessing import LabelEncoder"
   ]
  },
  {
   "cell_type": "code",
   "execution_count": 44,
   "metadata": {},
   "outputs": [],
   "source": [
    "df=pd.read_parquet('data.parquet')"
   ]
  },
  {
   "cell_type": "code",
   "execution_count": 45,
   "metadata": {},
   "outputs": [
    {
     "name": "stdout",
     "output_type": "stream",
     "text": [
      "<class 'pandas.core.frame.DataFrame'>\n",
      "RangeIndex: 2014 entries, 0 to 2013\n",
      "Data columns (total 6 columns):\n",
      " #   Column     Non-Null Count  Dtype  \n",
      "---  ------     --------------  -----  \n",
      " 0   app_name   2014 non-null   object \n",
      " 1   genres     2014 non-null   object \n",
      " 2   tags       2014 non-null   object \n",
      " 3   price      2014 non-null   float64\n",
      " 4   id         2014 non-null   int64  \n",
      " 5   developer  2014 non-null   object \n",
      "dtypes: float64(1), int64(1), object(4)\n",
      "memory usage: 94.5+ KB\n"
     ]
    }
   ],
   "source": [
    "df.info()"
   ]
  },
  {
   "cell_type": "code",
   "execution_count": 46,
   "metadata": {},
   "outputs": [
    {
     "data": {
      "text/html": [
       "<div>\n",
       "<style scoped>\n",
       "    .dataframe tbody tr th:only-of-type {\n",
       "        vertical-align: middle;\n",
       "    }\n",
       "\n",
       "    .dataframe tbody tr th {\n",
       "        vertical-align: top;\n",
       "    }\n",
       "\n",
       "    .dataframe thead th {\n",
       "        text-align: right;\n",
       "    }\n",
       "</style>\n",
       "<table border=\"1\" class=\"dataframe\">\n",
       "  <thead>\n",
       "    <tr style=\"text-align: right;\">\n",
       "      <th></th>\n",
       "      <th>app_name</th>\n",
       "      <th>genres</th>\n",
       "      <th>tags</th>\n",
       "      <th>price</th>\n",
       "      <th>id</th>\n",
       "      <th>developer</th>\n",
       "    </tr>\n",
       "  </thead>\n",
       "  <tbody>\n",
       "    <tr>\n",
       "      <th>0</th>\n",
       "      <td>Unturned</td>\n",
       "      <td>['Action', 'Adventure', 'Casual', 'Free to Pla...</td>\n",
       "      <td>['Free to Play', 'Survival', 'Zombies', 'Multi...</td>\n",
       "      <td>0.00</td>\n",
       "      <td>304930</td>\n",
       "      <td>Smartly Dressed Games</td>\n",
       "    </tr>\n",
       "    <tr>\n",
       "      <th>1</th>\n",
       "      <td>Ark: Survival Evolved</td>\n",
       "      <td>['Action', 'Adventure', 'Indie', 'Massively Mu...</td>\n",
       "      <td>['Survival', 'Dinosaurs', 'Open World', 'Multi...</td>\n",
       "      <td>60.00</td>\n",
       "      <td>346110</td>\n",
       "      <td>Studio Wildcard,Instinct Games,Efecto Studios,...</td>\n",
       "    </tr>\n",
       "    <tr>\n",
       "      <th>2</th>\n",
       "      <td>Starbound</td>\n",
       "      <td>['Action', 'Adventure', 'Casual', 'Indie', 'RPG']</td>\n",
       "      <td>['Sandbox', 'Adventure', 'Survival', 'Indie', ...</td>\n",
       "      <td>14.99</td>\n",
       "      <td>211820</td>\n",
       "      <td>Chucklefish</td>\n",
       "    </tr>\n",
       "    <tr>\n",
       "      <th>3</th>\n",
       "      <td>Robocraft</td>\n",
       "      <td>['Action', 'Free to Play', 'Indie', 'Massively...</td>\n",
       "      <td>['Free to Play', 'Robots', 'Building', 'Multip...</td>\n",
       "      <td>0.00</td>\n",
       "      <td>301520</td>\n",
       "      <td>Freejam</td>\n",
       "    </tr>\n",
       "    <tr>\n",
       "      <th>4</th>\n",
       "      <td>Heroes &amp; Generals</td>\n",
       "      <td>['Action', 'Free to Play', 'Indie', 'Massively...</td>\n",
       "      <td>['Free to Play', 'World War II', 'Multiplayer'...</td>\n",
       "      <td>0.00</td>\n",
       "      <td>227940</td>\n",
       "      <td>Reto-Moto</td>\n",
       "    </tr>\n",
       "  </tbody>\n",
       "</table>\n",
       "</div>"
      ],
      "text/plain": [
       "                app_name                                             genres  \\\n",
       "0               Unturned  ['Action', 'Adventure', 'Casual', 'Free to Pla...   \n",
       "1  Ark: Survival Evolved  ['Action', 'Adventure', 'Indie', 'Massively Mu...   \n",
       "2              Starbound  ['Action', 'Adventure', 'Casual', 'Indie', 'RPG']   \n",
       "3              Robocraft  ['Action', 'Free to Play', 'Indie', 'Massively...   \n",
       "4      Heroes & Generals  ['Action', 'Free to Play', 'Indie', 'Massively...   \n",
       "\n",
       "                                                tags  price      id  \\\n",
       "0  ['Free to Play', 'Survival', 'Zombies', 'Multi...   0.00  304930   \n",
       "1  ['Survival', 'Dinosaurs', 'Open World', 'Multi...  60.00  346110   \n",
       "2  ['Sandbox', 'Adventure', 'Survival', 'Indie', ...  14.99  211820   \n",
       "3  ['Free to Play', 'Robots', 'Building', 'Multip...   0.00  301520   \n",
       "4  ['Free to Play', 'World War II', 'Multiplayer'...   0.00  227940   \n",
       "\n",
       "                                           developer  \n",
       "0                              Smartly Dressed Games  \n",
       "1  Studio Wildcard,Instinct Games,Efecto Studios,...  \n",
       "2                                        Chucklefish  \n",
       "3                                            Freejam  \n",
       "4                                          Reto-Moto  "
      ]
     },
     "execution_count": 46,
     "metadata": {},
     "output_type": "execute_result"
    }
   ],
   "source": [
    "df.head()"
   ]
  },
  {
   "cell_type": "code",
   "execution_count": 47,
   "metadata": {},
   "outputs": [],
   "source": [
    "df.reset_index(drop=True, inplace=True)"
   ]
  },
  {
   "cell_type": "markdown",
   "metadata": {},
   "source": [
    "Se vectorizan, nombres, generos y tags"
   ]
  },
  {
   "cell_type": "code",
   "execution_count": 48,
   "metadata": {},
   "outputs": [],
   "source": [
    "vectorizer=TfidfVectorizer()\n",
    "tfidf_matrix=vectorizer.fit_transform(df[['app_name','genres','tags']].apply(lambda x: ' '.join(x),axis=1))"
   ]
  },
  {
   "cell_type": "markdown",
   "metadata": {},
   "source": [
    "Se calcula la cantidad de memoria en bytes"
   ]
  },
  {
   "cell_type": "code",
   "execution_count": 49,
   "metadata": {},
   "outputs": [],
   "source": [
    "memory_in_bytes = (tfidf_matrix.data.nbytes + tfidf_matrix.indices.nbytes + tfidf_matrix.indptr.nbytes)"
   ]
  },
  {
   "cell_type": "markdown",
   "metadata": {},
   "source": [
    "Conversion a megabytes"
   ]
  },
  {
   "cell_type": "code",
   "execution_count": 50,
   "metadata": {},
   "outputs": [],
   "source": [
    "memory_in_megabytes = memory_in_bytes / (1024 * 1024)"
   ]
  },
  {
   "cell_type": "code",
   "execution_count": 51,
   "metadata": {},
   "outputs": [
    {
     "name": "stdout",
     "output_type": "stream",
     "text": [
      "Memory: 0.31650543212890625 MB\n"
     ]
    }
   ],
   "source": [
    "print(f\"Memory: {memory_in_megabytes} MB\")"
   ]
  },
  {
   "cell_type": "markdown",
   "metadata": {},
   "source": [
    "Calculando la matriz de similitud del coseno"
   ]
  },
  {
   "cell_type": "code",
   "execution_count": 52,
   "metadata": {},
   "outputs": [],
   "source": [
    "similarity_matrix=cosine_similarity(tfidf_matrix)"
   ]
  },
  {
   "cell_type": "code",
   "execution_count": 53,
   "metadata": {},
   "outputs": [],
   "source": [
    "memory_in_bytes = similarity_matrix.nbytes"
   ]
  },
  {
   "cell_type": "code",
   "execution_count": 54,
   "metadata": {},
   "outputs": [],
   "source": [
    "memory_in_megabytes = memory_in_bytes / (1024 * 1024)"
   ]
  },
  {
   "cell_type": "code",
   "execution_count": 55,
   "metadata": {},
   "outputs": [
    {
     "name": "stdout",
     "output_type": "stream",
     "text": [
      "Memory: 30.946319580078125 MB\n"
     ]
    }
   ],
   "source": [
    "print(f\"Memory: {memory_in_megabytes} MB\")"
   ]
  },
  {
   "cell_type": "markdown",
   "metadata": {},
   "source": [
    "#Se crea el modelo de recomendación y se prueba con un id de un juego"
   ]
  },
  {
   "cell_type": "code",
   "execution_count": 56,
   "metadata": {},
   "outputs": [
    {
     "name": "stdout",
     "output_type": "stream",
     "text": [
      "767            The Beggar'S Ride\n",
      "1915           Slide Ride Arcade\n",
      "1258    Funfair Ride Simulator 3\n",
      "1411                    Tiltagon\n",
      "458                   Surfingers\n",
      "Name: app_name, dtype: object\n"
     ]
    }
   ],
   "source": [
    "\n",
    "item_id=508290\n",
    "if df[df['id']==item_id].empty:\n",
    "    print('No existe el item')\n",
    "else:\n",
    "    producto_index=df[df['id']==item_id].index[0]\n",
    "    product_similarities=similarity_matrix[producto_index]\n",
    "    most_similar_products_index=np.argsort(-product_similarities)[1:6]\n",
    "    most_similar_products=df.loc[most_similar_products_index,'app_name']\n",
    "    print(most_similar_products)"
   ]
  },
  {
   "cell_type": "markdown",
   "metadata": {},
   "source": [
    "#Se revisan los resultados"
   ]
  },
  {
   "cell_type": "code",
   "execution_count": 57,
   "metadata": {},
   "outputs": [
    {
     "data": {
      "text/plain": [
       "[\"The Beggar'S Ride\",\n",
       " 'Slide Ride Arcade',\n",
       " 'Funfair Ride Simulator 3',\n",
       " 'Tiltagon',\n",
       " 'Surfingers']"
      ]
     },
     "execution_count": 57,
     "metadata": {},
     "output_type": "execute_result"
    }
   ],
   "source": [
    "most_similar_products.values.tolist()"
   ]
  }
 ],
 "metadata": {
  "kernelspec": {
   "display_name": "Python 3",
   "language": "python",
   "name": "python3"
  },
  "language_info": {
   "codemirror_mode": {
    "name": "ipython",
    "version": 3
   },
   "file_extension": ".py",
   "mimetype": "text/x-python",
   "name": "python",
   "nbconvert_exporter": "python",
   "pygments_lexer": "ipython3",
   "version": "3.10.11"
  }
 },
 "nbformat": 4,
 "nbformat_minor": 2
}
